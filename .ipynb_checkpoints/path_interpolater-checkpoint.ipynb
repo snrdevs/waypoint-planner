{
 "cells": [
  {
   "cell_type": "code",
   "execution_count": 7,
   "metadata": {},
   "outputs": [
    {
     "data": {
      "image/png": "[encoded data removed]",
      "text/plain": [
       "<matplotlib.figure.Figure at 0x7f6110c79b90>"
      ]
     },
     "metadata": {
      "needs_background": "light"
     },
     "output_type": "display_data"
    }
   ],
   "source": [
    "#!/usr/bin/env/python \n",
    "# -*- coding: utf-8 -*-\n",
    "\n",
    "\n",
    "\"\"\"\n",
    "Waypoint Planner\n",
    "\n",
    "This script takes waypoints as input then interpolates the path\n",
    "Author: Hasan Şener <hsener3@ford.com.tr> \n",
    "\n",
    "\"\"\"\n",
    "import numpy as np \n",
    "import matplotlib.pyplot as plt \n",
    "from scipy import interpolate\n",
    "from math import atan2, cos, sin\n",
    "\n",
    "#%matplotlib inline \n",
    "\n",
    "\n",
    "# import waypoints manually \n",
    "#TODO : import waypoint from excel / csv file \n",
    "\n",
    "x = np.array([0,1,2,3,4,5,6,7,8,9,10,11,12,13,14,15])\n",
    "y = np.array([0,0,0,0,0,0,1,2,3,4,5,6,7,8,9,10])\n",
    "\n",
    "# select interpolation method \n",
    "\"\"\"Specifies the kind of interpolation as a string (‘linear’, ‘nearest’, ‘zero’, ‘slinear’, ‘quadratic’, ‘cubic’, ‘previous’, ‘next’, where ‘zero’, ‘slinear’, ‘quadratic’ and ‘cubic’ refer to a spline interpolation of zeroth, first, second or third order; ‘previous’ and ‘next’ simply return the previous or next value of the point) or as an integer specifying the order of the spline interpolator to use. Default is ‘linear’.\"\"\"\n",
    "\n",
    "f = interpolate.interp1d(x, y, kind='cubic')\n",
    "\n",
    "xnew = np.arange(x[0], x[-1], 0.01)\n",
    "ynew = f(xnew)   # use interpolation function returned by `interp1d`\n",
    "plt.plot(x, y, 'o', xnew, ynew, '-')\n",
    "plt.legend(['waypoints','interpolated_path'],loc='best')\n",
    "plt.grid()\n",
    "\n",
    "\n",
    "#create yaw variable / create zero vector for memory allocation \n",
    "yaw = np.zeros(len(xnew))\n",
    "\n",
    "#find yaw angles (radians)\n",
    "\n",
    "t = 1 #counter for loop - start from 1 \n",
    "for t in range(len(xnew) - 1): \n",
    "    x_forward = xnew[t+1];\n",
    "    x_backward = xnew[t-1];\n",
    "    y_forward = ynew[t+1];\n",
    "    y_backward = ynew[t-1];\n",
    "\n",
    "    yaw[t+1] = atan2(y_forward-y_backward, x_forward-x_backward) \n",
    "\n",
    "yaw[0] = yaw[1]    #equalize first and second yaw\n",
    "yaw[-1] = yaw[-2]  #equalize last and previous yaw\n",
    "\n",
    "\n",
    "\n",
    "# clear file contents \n",
    "open('planned_path.xlsx', 'w').close()\n",
    "\n",
    "# re open for appending text \n",
    "file = open('planned_path.xlsx', 'a')\n",
    "\n",
    "# write to excel file use [tab] as delimiter \n",
    "\n",
    "i = 0 #counter for loop \n",
    "if len(xnew) == len(ynew):    \n",
    "    for i in range(len(xnew)):\n",
    "        coord2write = str(xnew[i]) + '\\t' + str(ynew[i]) + '\\t' + str(yaw[i]) + '\\n'\n",
    "        file.write(coord2write)\n",
    "file.close()\n",
    "\n",
    "#fig, ax = plt.subplots()\n",
    "plt.show()  \n"
   ]
  },
  {
   "cell_type": "code",
   "execution_count": 109,
   "metadata": {},
   "outputs": [
    {
     "name": "stdout",
     "output_type": "stream",
     "text": [
      "1500\n",
      "1500\n",
      "1500\n"
     ]
    }
   ],
   "source": [
    "print(len(xnew))\n",
    "print(len(ynew))\n",
    "print(len(yaw))"
   ]
  },
  {
   "cell_type": "code",
   "execution_count": null,
   "metadata": {},
   "outputs": [],
   "source": []
  },
  {
   "cell_type": "code",
   "execution_count": null,
   "metadata": {},
   "outputs": [],
   "source": []
  }
 ],
 "metadata": {
  "kernelspec": {
   "display_name": "Python 2",
   "language": "python",
   "name": "python2"
  },
  "language_info": {
   "codemirror_mode": {
    "name": "ipython",
    "version": 2
   },
   "file_extension": ".py",
   "mimetype": "text/x-python",
   "name": "python",
   "nbconvert_exporter": "python",
   "pygments_lexer": "ipython2",
   "version": "2.7.17"
  }
 },
 "nbformat": 4,
 "nbformat_minor": 2
}
